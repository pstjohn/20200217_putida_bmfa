{
 "cells": [
  {
   "cell_type": "code",
   "execution_count": 1,
   "metadata": {},
   "outputs": [
    {
     "name": "stdout",
     "output_type": "stream",
     "text": [
      "Defaulting to user installation because normal site-packages is not writeable\n",
      "Requirement already satisfied: xlrd in /home/pstjohn/.local/lib/python3.7/site-packages (2.0.1)\n",
      "Defaulting to user installation because normal site-packages is not writeable\n",
      "Requirement already satisfied: openpyxl in /home/pstjohn/.local/lib/python3.7/site-packages (3.0.7)\n",
      "Requirement already satisfied: et-xmlfile in /home/pstjohn/.local/lib/python3.7/site-packages (from openpyxl) (1.1.0)\n"
     ]
    }
   ],
   "source": [
    "!pip install xlrd\n",
    "!pip install openpyxl"
   ]
  },
  {
   "cell_type": "code",
   "execution_count": 2,
   "metadata": {},
   "outputs": [],
   "source": [
    "import pandas as pd\n",
    "import numpy as np"
   ]
  },
  {
   "cell_type": "code",
   "execution_count": 3,
   "metadata": {},
   "outputs": [],
   "source": [
    "df = pd.read_excel('210525_Aspergillus_niger_3HP_ABFSF93_multiomics_data_fixed.xlsx').iloc[:, :12]\n",
    "df.iloc[50, 6] = 10.8776119402985"
   ]
  },
  {
   "cell_type": "code",
   "execution_count": 4,
   "metadata": {},
   "outputs": [],
   "source": [
    "## day 0 biomass ~ 0.5 g/L"
   ]
  },
  {
   "cell_type": "code",
   "execution_count": 5,
   "metadata": {},
   "outputs": [
    {
     "data": {
      "text/plain": [
       "Index(['Omics Sample ID', 'Strain (ICE)', 'Genotype',\n",
       "       'Day 3 Glucose converted (g/L)', 'Day 5 Glucose converted (g/L)',\n",
       "       'Day 7 Glucose converted (g/L)', 'Day 3 Biomass (g/L)',\n",
       "       'Day 5 Biomass (g/L)', 'Day 7 Biomass (g/L)', 'Day 3 3HP (g/L)',\n",
       "       'Day 5 3HP (g/L)', 'Day 7 3HP (g/L)'],\n",
       "      dtype='object')"
      ]
     },
     "execution_count": 5,
     "metadata": {},
     "output_type": "execute_result"
    }
   ],
   "source": [
    "df.columns"
   ]
  },
  {
   "cell_type": "code",
   "execution_count": 6,
   "metadata": {},
   "outputs": [],
   "source": [
    "import seaborn as sns\n",
    "import matplotlib.pyplot as plt"
   ]
  },
  {
   "cell_type": "code",
   "execution_count": 7,
   "metadata": {},
   "outputs": [
    {
     "data": {
      "text/plain": [
       "<function seaborn.relational.lineplot(x=None, y=None, hue=None, size=None, style=None, data=None, palette=None, hue_order=None, hue_norm=None, sizes=None, size_order=None, size_norm=None, dashes=True, markers=None, style_order=None, units=None, estimator='mean', ci=95, n_boot=1000, seed=None, sort=True, err_style='band', err_kws=None, legend='brief', ax=None, **kwargs)>"
      ]
     },
     "execution_count": 7,
     "metadata": {},
     "output_type": "execute_result"
    }
   ],
   "source": [
    "sns.lineplot"
   ]
  },
  {
   "cell_type": "code",
   "execution_count": 8,
   "metadata": {},
   "outputs": [
    {
     "data": {
      "image/png": "[encoded data removed]",
      "text/plain": [
       "<Figure size 432x288 with 1 Axes>"
      ]
     },
     "metadata": {
      "needs_background": "light"
     },
     "output_type": "display_data"
    }
   ],
   "source": [
    "ax = sns.boxplot(x='variable', y='value', data=df.melt(id_vars=['Omics Sample ID', 'Strain (ICE)'], value_vars=['Day 3 Biomass (g/L)', 'Day 5 Biomass (g/L)', 'Day 7 Biomass (g/L)']), hue='Strain (ICE)')\n",
    "ax.legend_.set_visible(False)"
   ]
  },
  {
   "cell_type": "code",
   "execution_count": 90,
   "metadata": {},
   "outputs": [],
   "source": [
    "biomass_concentrations = df.melt(id_vars=['Strain (ICE)'], value_vars=['Day 3 Biomass (g/L)', 'Day 5 Biomass (g/L)', 'Day 7 Biomass (g/L)']\n",
    "                                ).groupby('Strain (ICE)').median()"
   ]
  },
  {
   "cell_type": "code",
   "execution_count": 9,
   "metadata": {},
   "outputs": [
    {
     "data": {
      "image/png": "[encoded data removed]",
      "text/plain": [
       "<Figure size 648x216 with 3 Axes>"
      ]
     },
     "metadata": {
      "needs_background": "light"
     },
     "output_type": "display_data"
    }
   ],
   "source": [
    "fig, ax = plt.subplots(ncols=3, figsize=(9,3))\n",
    "ax[0].plot(df['Day 3 Glucose converted (g/L)'], df['Day 3 3HP (g/L)'], '.')\n",
    "ax[1].plot(df['Day 5 Glucose converted (g/L)'], df['Day 5 3HP (g/L)'], '.')\n",
    "ax[2].plot(df['Day 7 Glucose converted (g/L)'], df['Day 7 3HP (g/L)'], '.')\n",
    "\n",
    "plt.tight_layout()"
   ]
  },
  {
   "cell_type": "code",
   "execution_count": 61,
   "metadata": {},
   "outputs": [
    {
     "data": {
      "text/plain": [
       "0     0.044352\n",
       "1     0.042139\n",
       "2     0.043531\n",
       "3     0.047123\n",
       "4     0.039356\n",
       "5     0.040425\n",
       "6     0.040535\n",
       "7     0.040227\n",
       "8     0.039690\n",
       "9     0.041304\n",
       "10    0.041936\n",
       "11    0.039907\n",
       "12    0.041255\n",
       "13    0.041856\n",
       "14    0.041146\n",
       "15    0.041390\n",
       "16    0.041772\n",
       "17    0.040105\n",
       "18    0.040698\n",
       "19    0.041947\n",
       "20    0.040385\n",
       "21    0.039618\n",
       "22    0.039893\n",
       "23    0.040195\n",
       "24    0.042291\n",
       "25    0.041985\n",
       "26    0.041764\n",
       "27    0.038924\n",
       "28    0.039537\n",
       "29    0.042100\n",
       "30    0.039282\n",
       "31    0.039378\n",
       "32    0.039612\n",
       "33    0.041366\n",
       "34    0.039228\n",
       "35    0.040848\n",
       "36    0.039235\n",
       "37    0.044643\n",
       "38    0.040185\n",
       "39    0.042132\n",
       "40    0.042769\n",
       "41    0.040385\n",
       "42    0.042844\n",
       "43    0.042200\n",
       "44    0.040149\n",
       "45    0.042412\n",
       "46    0.040977\n",
       "47    0.043010\n",
       "48    0.039771\n",
       "49    0.040871\n",
       "50    0.042776\n",
       "51         NaN\n",
       "52         NaN\n",
       "Name: Day 3 Biomass (g/L), dtype: float64"
      ]
     },
     "execution_count": 61,
     "metadata": {},
     "output_type": "execute_result"
    }
   ],
   "source": [
    "np.log(df['Day 3 Biomass (g/L)'] / 0.5) / 72"
   ]
  },
  {
   "cell_type": "code",
   "execution_count": 73,
   "metadata": {},
   "outputs": [],
   "source": [
    "initial_biomass = .5\n",
    "df['growth_rate'] = (np.log(df['Day 5 Biomass (g/L)'] / initial_biomass) / (24*5))"
   ]
  },
  {
   "cell_type": "code",
   "execution_count": 74,
   "metadata": {},
   "outputs": [],
   "source": [
    "# df['growth_rate'] = (np.log(df['Day 5 Biomass (g/L)'] / df['Day 3 Biomass (g/L)']) / 48)"
   ]
  },
  {
   "cell_type": "code",
   "execution_count": 75,
   "metadata": {},
   "outputs": [
    {
     "data": {
      "text/plain": [
       "0     0.029609\n",
       "1     0.033529\n",
       "2     0.028076\n",
       "3     0.027875\n",
       "4     0.026072\n",
       "5     0.025848\n",
       "6     0.025967\n",
       "7     0.025422\n",
       "8     0.026580\n",
       "9     0.026256\n",
       "10    0.025631\n",
       "11    0.026826\n",
       "12    0.025949\n",
       "13    0.025651\n",
       "14    0.027022\n",
       "15    0.025563\n",
       "16    0.027881\n",
       "17    0.024240\n",
       "18    0.027694\n",
       "19    0.025176\n",
       "20    0.025759\n",
       "21    0.026056\n",
       "22    0.026156\n",
       "23    0.026104\n",
       "24    0.029751\n",
       "25    0.029691\n",
       "26    0.031768\n",
       "27    0.031020\n",
       "28    0.028767\n",
       "29    0.030119\n",
       "30    0.031377\n",
       "31         NaN\n",
       "32    0.030586\n",
       "33    0.030561\n",
       "34    0.029425\n",
       "35    0.030623\n",
       "36    0.030266\n",
       "37    0.030878\n",
       "38    0.030632\n",
       "39    0.031042\n",
       "40    0.029198\n",
       "41    0.029001\n",
       "42    0.028545\n",
       "43    0.025298\n",
       "44    0.029793\n",
       "45    0.027388\n",
       "46    0.030792\n",
       "47    0.027497\n",
       "48    0.028590\n",
       "49    0.026038\n",
       "50    0.031038\n",
       "51         NaN\n",
       "52         NaN\n",
       "Name: growth_rate, dtype: float64"
      ]
     },
     "execution_count": 75,
     "metadata": {},
     "output_type": "execute_result"
    }
   ],
   "source": [
    "df['growth_rate']"
   ]
  },
  {
   "cell_type": "code",
   "execution_count": 76,
   "metadata": {},
   "outputs": [
    {
     "data": {
      "text/plain": [
       "18"
      ]
     },
     "execution_count": 76,
     "metadata": {},
     "output_type": "execute_result"
    }
   ],
   "source": [
    "len(df['Strain (ICE)'].unique())"
   ]
  },
  {
   "cell_type": "code",
   "execution_count": 77,
   "metadata": {},
   "outputs": [],
   "source": [
    "colors = sns.color_palette(palette='husl', n_colors=18)"
   ]
  },
  {
   "cell_type": "code",
   "execution_count": 78,
   "metadata": {},
   "outputs": [
    {
     "data": {
      "image/png": "[encoded data removed]",
      "text/plain": [
       "<Figure size 432x288 with 1 Axes>"
      ]
     },
     "metadata": {
      "needs_background": "light"
     },
     "output_type": "display_data"
    }
   ],
   "source": [
    "fig = plt.figure()\n",
    "ax = fig.add_subplot(111)\n",
    "\n",
    "for (strain, idf), color in zip(df.groupby('Strain (ICE)'), colors):\n",
    "    ax.plot(5 * 24 *np.ones(len(df)), df['Day 5 Biomass (g/L)'], '.', label=strain, color=color, zorder=2)\n",
    "    ax.plot(72 * np.ones(len(df)), df['Day 3 Biomass (g/L)'], '.', label=strain, color=color, zorder=2)\n",
    "    \n",
    "    for _, row in df.iterrows():\n",
    "        ts = np.linspace(0, 5 * 24)\n",
    "        plt.plot(ts, initial_biomass * np.exp(ts * row['growth_rate']), color=color, zorder=1, alpha=0.5)"
   ]
  },
  {
   "cell_type": "markdown",
   "metadata": {},
   "source": [
    "Using equations from [monod kinetics](https://www.cs.montana.edu/webworks/projects/stevesbook/contents/chapters/chapter002/section002/black/page001.html)\n",
    "\n",
    "We're looking for the the cell-specific rate,  $$\\frac{1}{X} \\frac{dS}{dt} = \\frac{\\mu}{Y} = \\frac{\\Delta \\mathrm{substrate}}{\\Delta \\mathrm{cell\\ mass}}\\mu$$\n",
    "\n",
    "We also want rates in mmol/g CDW * hr, which is the typical unit for FBA modeling; so we need to divide the g/L by the molar mass and multiply by 1000"
   ]
  },
  {
   "cell_type": "code",
   "execution_count": 79,
   "metadata": {},
   "outputs": [],
   "source": [
    "df['glucose_uptake_rates (mmol/gDCW * hr)'] = 1000 * (df['Day 5 Glucose converted (g/L)'] / 180.156) / (df['Day 5 Biomass (g/L)'] - initial_biomass)\n",
    "df['3hp_secretion_rates (mmol/gDCW * hr)'] = 1000 * (df['Day 5 3HP (g/L)'] / 90.08) / (df['Day 5 Biomass (g/L)'] - initial_biomass)"
   ]
  },
  {
   "cell_type": "code",
   "execution_count": 80,
   "metadata": {},
   "outputs": [],
   "source": [
    "df[['Omics Sample ID', 'Strain (ICE)', 'Genotype', 'growth_rate', 'glucose_uptake_rates (mmol/gDCW * hr)', '3hp_secretion_rates (mmol/gDCW * hr)']].to_csv('a.niger_strain_specific_rates.csv', index=False)"
   ]
  },
  {
   "cell_type": "code",
   "execution_count": null,
   "metadata": {},
   "outputs": [],
   "source": [
    "df['glucose_uptake_rates (mmol/gDCW * hr)'] = 1000 * (df['Day 5 Glucose converted (g/L)'] / 180.156)\n",
    "df['3hp_secretion_rates (mmol/gDCW * hr)'] = 1000 * (df['Day 5 3HP (g/L)'] / 90.08) / (df['Day 5 Biomass (g/L)'] - initial_biomass)"
   ]
  },
  {
   "cell_type": "code",
   "execution_count": 123,
   "metadata": {},
   "outputs": [],
   "source": [
    "# glucose_mass_7 = (df['Day 7 Glucose converted (g/L)'] - df['Day 5 Glucose converted (g/L)']) / 48 # mmol*hr\n",
    "# glucose_mmol_hr_7 = glucose_mass_7 * 1000 / 180.156\n",
    "# glucose_mmol_dcw_hr_7 = glucose_mmol_hr_7 / biomass_concentrations.reindex(df['Strain (ICE)']).values.flatten()\n",
    "\n",
    "\n",
    "# glucose_mass_5 = (df['Day 5 Glucose converted (g/L)'] - df['Day 3 Glucose converted (g/L)']) / 48\n",
    "# glucose_mmol_hr_5 = glucose_mass_5 * 1000 / 180.156\n",
    "# glucose_mmol_dcw_hr_5 = glucose_mmol_hr_5 / biomass_concentrations.reindex(df['Strain (ICE)']).values.flatten()\n",
    "\n",
    "glucose_mass_3 = (df['Day 7 Glucose converted (g/L)'] - df['Day 3 Glucose converted (g/L)']) / 96\n",
    "glucose_mmol_hr_3 = glucose_mass_3 * 1000 / 180.156\n",
    "glucose_mmol_dcw_hr_3 = glucose_mmol_hr_3 / biomass_concentrations.reindex(df['Strain (ICE)']).values.flatten()"
   ]
  },
  {
   "cell_type": "code",
   "execution_count": 124,
   "metadata": {},
   "outputs": [],
   "source": [
    "hp_mass_3 = (df['Day 7 3HP (g/L)'] - df['Day 3 3HP (g/L)']) / 96\n",
    "hp_mmol_hr_3 = hp_mass_3 * 1000 / 180.156\n",
    "hp_mmol_dcw_hr_3 = hp_mmol_hr_3 / biomass_concentrations.reindex(df['Strain (ICE)']).values.flatten()"
   ]
  },
  {
   "cell_type": "code",
   "execution_count": 128,
   "metadata": {},
   "outputs": [],
   "source": [
    "df['glucose_uptake_rates (mmol/gDCW * hr)'] = glucose_mmol_dcw_hr_3\n",
    "df['3hp_secretion_rates (mmol/gDCW * hr)'] = hp_mmol_dcw_hr_3"
   ]
  },
  {
   "cell_type": "code",
   "execution_count": 132,
   "metadata": {},
   "outputs": [],
   "source": [
    "df[['Omics Sample ID', 'Strain (ICE)', 'Genotype', 'glucose_uptake_rates (mmol/gDCW * hr)', '3hp_secretion_rates (mmol/gDCW * hr)']].dropna().to_csv('a.niger_no_growth_specific_rate.csv', index=False)"
   ]
  },
  {
   "cell_type": "code",
   "execution_count": null,
   "metadata": {},
   "outputs": [],
   "source": []
  }
 ],
 "metadata": {
  "kernelspec": {
   "display_name": "Python 3",
   "language": "python",
   "name": "python3"
  },
  "language_info": {
   "codemirror_mode": {
    "name": "ipython",
    "version": 3
   },
   "file_extension": ".py",
   "mimetype": "text/x-python",
   "name": "python",
   "nbconvert_exporter": "python",
   "pygments_lexer": "ipython3",
   "version": "3.7.6"
  }
 },
 "nbformat": 4,
 "nbformat_minor": 4
}
