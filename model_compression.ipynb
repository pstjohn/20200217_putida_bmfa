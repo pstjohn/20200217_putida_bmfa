{
 "cells": [
  {
   "cell_type": "code",
   "execution_count": 1,
   "metadata": {},
   "outputs": [],
   "source": [
    "import numpy as np\n",
    "import pandas as pd\n",
    "import cobra.io"
   ]
  },
  {
   "cell_type": "code",
   "execution_count": 2,
   "metadata": {},
   "outputs": [],
   "source": [
    "model = cobra.io.load_json_model('reduced_iJN1463.json')\n",
    "reference_flux = pd.read_csv('reference_fluxes_GB032gfg.csv', index_col=0)"
   ]
  },
  {
   "cell_type": "code",
   "execution_count": 3,
   "metadata": {},
   "outputs": [],
   "source": [
    "N_orig = cobra.util.create_stoichiometric_matrix(model)\n",
    "v_star = reference_flux.values.flatten()"
   ]
  },
  {
   "cell_type": "code",
   "execution_count": 4,
   "metadata": {},
   "outputs": [
    {
     "data": {
      "text/plain": [
       "array([545])"
      ]
     },
     "execution_count": 4,
     "metadata": {},
     "output_type": "execute_result"
    }
   ],
   "source": [
    "np.array(list(set(np.arange(N_orig.shape[1])).difference(\n",
    "    np.unique(N_orig, return_index=True, axis=1)[1])))"
   ]
  },
  {
   "cell_type": "code",
   "execution_count": 5,
   "metadata": {},
   "outputs": [
    {
     "data": {
      "text/html": [
       "\n",
       "        <table>\n",
       "            <tr>\n",
       "                <td><strong>Name</strong></td>\n",
       "                <td>iJN1463</td>\n",
       "            </tr><tr>\n",
       "                <td><strong>Memory address</strong></td>\n",
       "                <td>0x07f3749c40650</td>\n",
       "            </tr><tr>\n",
       "                <td><strong>Number of metabolites</strong></td>\n",
       "                <td>665</td>\n",
       "            </tr><tr>\n",
       "                <td><strong>Number of reactions</strong></td>\n",
       "                <td>716</td>\n",
       "            </tr><tr>\n",
       "                <td><strong>Number of groups</strong></td>\n",
       "                <td>0</td>\n",
       "            </tr><tr>\n",
       "                <td><strong>Objective expression</strong></td>\n",
       "                <td>1.0*BIOMASS_KT2440_WT3 - 1.0*BIOMASS_KT2440_WT3_reverse_d86d5</td>\n",
       "            </tr><tr>\n",
       "                <td><strong>Compartments</strong></td>\n",
       "                <td>cytosol, periplasm, extracellular space</td>\n",
       "            </tr>\n",
       "          </table>"
      ],
      "text/plain": [
       "<Model iJN1463 at 0x7f3749c40650>"
      ]
     },
     "execution_count": 5,
     "metadata": {},
     "output_type": "execute_result"
    }
   ],
   "source": [
    "model"
   ]
  },
  {
   "cell_type": "code",
   "execution_count": 6,
   "metadata": {},
   "outputs": [
    {
     "name": "stdout",
     "output_type": "stream",
     "text": [
      "53\n",
      "36\n"
     ]
    }
   ],
   "source": [
    "external_mets = {model.metabolites.index(m) for m in model.metabolites.query('e', 'compartment')}\n",
    "protected_mets = {model.metabolites.index(model.metabolites.get_by_id(mid)) for mid\n",
    "                 in pd.read_csv('temp_data/measured_mets.csv').values.flatten()}\n",
    "biomass_mets = {model.metabolites.index(m) for m in model.reactions.BIOMASS_KT2440_WT3.reactants}\n",
    "\n",
    "# biomass_prods = {model.metabolites.index(m) for m in model.reactions.BIOMASS_KT2440_WT3.products}\n",
    "\n",
    "protected_rxns = {model.reactions.index(r) for r in model.exchanges + [model.reactions.BIOMASS_KT2440_WT3]}\n",
    "\n",
    "print(len(protected_mets))\n",
    "print(len(protected_rxns))"
   ]
  },
  {
   "cell_type": "code",
   "execution_count": 7,
   "metadata": {},
   "outputs": [],
   "source": [
    "m, n = N_orig.shape\n",
    "\n",
    "N = N_orig\n",
    "L = np.eye(m)\n",
    "R = np.eye(n)\n",
    "\n",
    "assert np.allclose(L @ N @ R @ v_star, 0)"
   ]
  },
  {
   "cell_type": "code",
   "execution_count": 8,
   "metadata": {},
   "outputs": [],
   "source": [
    "N = N @ np.diag((v_star > 0) * 2 - 1)\n",
    "Rsign = np.diag((v_star > 0) * 2 - 1)\n",
    "Rinv = R\n",
    "\n",
    "assert np.allclose(L @ N @ R @ Rsign @ v_star, 0)\n",
    "assert np.allclose((Rinv @ R), np.eye(n))"
   ]
  },
  {
   "cell_type": "code",
   "execution_count": 9,
   "metadata": {},
   "outputs": [
    {
     "data": {
      "text/plain": [
       "44"
      ]
     },
     "execution_count": 9,
     "metadata": {},
     "output_type": "execute_result"
    }
   ],
   "source": [
    "model.reactions.index(model.reactions.BIOMASS_KT2440_WT3)"
   ]
  },
  {
   "cell_type": "code",
   "execution_count": 10,
   "metadata": {},
   "outputs": [],
   "source": [
    "def remove_single_stream_metabolite(met_to_remove, direction, L, N, R, Rinv):\n",
    "    N_sign = np.sign(N).astype(int)\n",
    "\n",
    "    rxn_to_remove = np.where(N_sign[met_to_remove] == direction)[0][0]\n",
    "    rxn_to_remove_origindex = (R @ np.arange(n))[rxn_to_remove].astype(int)\n",
    "    assert rxn_to_remove_origindex != 44, f\"Biomass removed with met {(np.arange(m) @ L)[met_to_remove]}\"\n",
    "\n",
    "    rxns_to_group = np.where(N_sign[met_to_remove] == -direction)[0]\n",
    "\n",
    "#     print('Reaction to remove:')\n",
    "#     print(np.where(N[:, rxn_to_remove]))\n",
    "#     print(N[np.where(N[:, rxn_to_remove])[0], rxn_to_remove])\n",
    "\n",
    "    for rxn in rxns_to_group:\n",
    "    \n",
    "#         print('Reaction to group (before):')    \n",
    "#         print(np.where(N[:, rxn]))\n",
    "#         print(N[np.where(N[:, rxn])[0], rxn])   \n",
    "    \n",
    "        fraction = -N[met_to_remove, rxn] / N[met_to_remove, rxn_to_remove]\n",
    "        N[:, rxn] += fraction * N[:, rxn_to_remove]\n",
    "        Rinv[:, rxn] += fraction * Rinv[:, rxn_to_remove]\n",
    "        \n",
    "#         print('Reaction to group (after):')        \n",
    "#         print(np.where(N[:, rxn]))\n",
    "#         print(N[np.where(N[:, rxn])[0], rxn])\n",
    "\n",
    "    N = np.delete(N, rxn_to_remove, 1)\n",
    "    Rinv = np.delete(Rinv, rxn_to_remove, 1)    \n",
    "    R = np.delete(R, rxn_to_remove, 0)\n",
    "\n",
    "    N = np.delete(N, met_to_remove, 0)\n",
    "    L = np.delete(L, met_to_remove, 1)\n",
    "\n",
    "    assert np.allclose(L @ N @ R @ Rsign @ v_star, 0)\n",
    "    assert np.allclose(Rinv @ R @ Rsign @ v_star, Rsign @ v_star)\n",
    "    return L, N, R, Rinv\n",
    "\n",
    "\n",
    "def get_duplicate_metabolites(N):\n",
    "    return np.array(list(set(np.arange(N.shape[0])).difference(\n",
    "        np.unique(N, return_index=True, axis=0)[1])))\n",
    "\n",
    "\n",
    "def get_duplicate_reactions(N):\n",
    "    return np.array(list(set(np.arange(N.shape[1])).difference(\n",
    "        np.unique(N, return_index=True, axis=1)[1])))\n",
    "\n",
    "\n",
    "# def remove_duplicate_reaction(rxn_to_remove, v_star, L, N, R, Rinv):\n",
    "#     rxn = [i for i, row in enumerate(N.T) if (row == N[:, rxn_to_remove]).all() and i != rxn_to_remove][0]\n",
    "\n",
    "#     rxn_to_remove_origindex = (R @ np.arange(n))[rxn_to_remove].astype(int)\n",
    "#     rxn_origindex = (R @ np.arange(n))[rxn].astype(int)\n",
    "\n",
    "#     N_test = np.delete(N, rxn_to_remove, 1)\n",
    "#     R_test = np.delete(R, rxn_to_remove, 0)\n",
    "\n",
    "#     R_test[rxn] *= (v_star[rxn_to_remove_origindex] + v_star[rxn_origindex]) / v_star[rxn_origindex]\n",
    "\n",
    "#     assert np.allclose(L @ N_test @ R_test @ Rsign @ v_star, 0)"
   ]
  },
  {
   "cell_type": "code",
   "execution_count": 11,
   "metadata": {},
   "outputs": [
    {
     "name": "stderr",
     "output_type": "stream",
     "text": [
      "546it [02:54,  9.53it/s, shape=(119, 179)]"
     ]
    }
   ],
   "source": [
    "# Protected metabolite mask\n",
    "mask = np.ones(m, dtype=bool)\n",
    "mask[list(protected_mets)] = False\n",
    "\n",
    "from tqdm import tqdm\n",
    "t = tqdm()\n",
    "\n",
    "while True:\n",
    "    \n",
    "    t.set_postfix(shape=f\"{N.shape}\")\n",
    "    t.update(1)\n",
    "    \n",
    "    N_sign = np.sign(N)\n",
    "    \n",
    "\n",
    "    Lmask = mask @ L.astype(bool)\n",
    "    \n",
    "    to_remove_source = np.where(((N_sign == 1).sum(1) == 1) & Lmask)[0]\n",
    "    rxn_to_remove_source = pd.Series(\n",
    "        [(R @ np.arange(n))[np.where(N_sign[met_to_remove] == 1)[0][0]].astype(int)\n",
    "         for met_to_remove in to_remove_source])\n",
    "    to_remove_source = to_remove_source[~rxn_to_remove_source.isin(protected_rxns)]\n",
    "\n",
    "    if np.any(to_remove_source):\n",
    "        L, N, R, Rinv = remove_single_stream_metabolite(to_remove_source[0], 1, L, N, R, Rinv)  \n",
    "        continue\n",
    "        \n",
    "    to_remove_sink = np.where(((N_sign == -1).sum(1) == 1) & Lmask)[0]\n",
    "    rxn_to_remove_sink= pd.Series(\n",
    "        [(R @ np.arange(n))[np.where(N_sign[met_to_remove] == -1)[0][0]].astype(int)\n",
    "         for met_to_remove in to_remove_sink])\n",
    "    to_remove_sink = to_remove_sink[~rxn_to_remove_sink.isin(protected_rxns)]\n",
    "    \n",
    "    if np.any(to_remove_sink):\n",
    "        L, N, R, Rinv = remove_single_stream_metabolite(to_remove_sink[0], -1, L, N, R, Rinv)\n",
    "        continue \n",
    "        \n",
    "    duplicated_mets = get_duplicate_metabolites(N)\n",
    "    \n",
    "    if len(duplicated_mets) != 0:\n",
    "        # Remove protected mets\n",
    "        duplicated_mets = duplicated_mets[Lmask[duplicated_mets]]  \n",
    "    \n",
    "    if len(duplicated_mets) != 0:\n",
    "        N = np.delete(N, duplicated_mets[0], 0)\n",
    "        L = np.delete(L, duplicated_mets[0], 1)\n",
    "        assert np.allclose(L @ N @ R @ Rsign @ v_star, 0)\n",
    "        continue\n",
    "\n",
    "#     duplicated_rxns = get_duplicate_reactions(N)\n",
    "    \n",
    "#     if len(duplicated_rxns) != 0:\n",
    "#         N = np.delete(N, duplicated_rxns[0], 1)\n",
    "#         R = np.delete(R, duplicated_rxns[0], 0)\n",
    "#         Rinv = np.delete(Rinv, duplicated_rxns[0], 1)\n",
    "        \n",
    "#         assert np.allclose(L @ N @ R @ Rsign @ v_star, 0)\n",
    "#         continue        \n",
    "        \n",
    "    else:\n",
    "        break"
   ]
  },
  {
   "cell_type": "code",
   "execution_count": 13,
   "metadata": {},
   "outputs": [
    {
     "data": {
      "text/plain": [
       "[<Reaction 2AACLPGT160 at 0x7f37498e7fd0>,\n",
       " <Reaction 2AACLPGT180 at 0x7f37498fa490>,\n",
       " <Reaction 2AACLPPEAT160 at 0x7f37498fa750>,\n",
       " <Reaction 2AACLPPEAT180 at 0x7f37498faa90>,\n",
       " <Reaction ACODA at 0x7f3749890d10>,\n",
       " <Reaction ACONTb at 0x7f374989af90>,\n",
       " <Reaction AROH at 0x7f374984a950>,\n",
       " <Reaction ASPO3 at 0x7f3749860e90>,\n",
       " <Reaction ASPO5 at 0x7f374986c490>,\n",
       " <Reaction BIOMASS_KT2440_WT3 at 0x7f374986c850>]"
      ]
     },
     "execution_count": 13,
     "metadata": {},
     "output_type": "execute_result"
    }
   ],
   "source": [
    "[[:10]"
   ]
  },
  {
   "cell_type": "code",
   "execution_count": 28,
   "metadata": {},
   "outputs": [
    {
     "data": {
      "text/plain": [
       "[<Metabolite 34dhbz_c at 0x7f3749bc45d0>,\n",
       " <Metabolite 25aics_c at 0x7f3749bcd450>,\n",
       " <Metabolite 3pg_c at 0x7f3749bcd810>,\n",
       " <Metabolite 2dhglcn_p at 0x7f3749bcded0>,\n",
       " <Metabolite 4mop_c at 0x7f3749bd2250>,\n",
       " <Metabolite accoa_c at 0x7f3749bd2810>,\n",
       " <Metabolite acglu_c at 0x7f3749bd2910>,\n",
       " <Metabolite 6pgc_c at 0x7f3749bd29d0>,\n",
       " <Metabolite ACP_c at 0x7f3749bd2ad0>,\n",
       " <Metabolite ade_c at 0x7f3749bd2c90>]"
      ]
     },
     "execution_count": 28,
     "metadata": {},
     "output_type": "execute_result"
    }
   ],
   "source": [
    "[model.metabolites[i] for i in (np.arange(m) @ L).astype(int)][:10]"
   ]
  },
  {
   "cell_type": "code",
   "execution_count": 35,
   "metadata": {},
   "outputs": [
    {
     "data": {
      "text/plain": [
       "(716, 179)"
      ]
     },
     "execution_count": 35,
     "metadata": {},
     "output_type": "execute_result"
    }
   ],
   "source": [
    "Rinv.shape"
   ]
  },
  {
   "cell_type": "code",
   "execution_count": 86,
   "metadata": {},
   "outputs": [],
   "source": [
    "rxn_labels_original = pd.Series([r.id for r in model.reactions])\n",
    "rxn_labels_compressed = pd.Series([model.reactions[i].id for i in (R @ np.arange(n)).astype(int)])\n",
    "met_labels_compressed = pd.Series([model.metabolites[i].id for i in (np.arange(m) @ L).astype(int)])"
   ]
  },
  {
   "cell_type": "code",
   "execution_count": 87,
   "metadata": {},
   "outputs": [
    {
     "data": {
      "text/plain": [
       "0       34dhbz_c\n",
       "1       25aics_c\n",
       "2          3pg_c\n",
       "3      2dhglcn_p\n",
       "4         4mop_c\n",
       "         ...    \n",
       "114     ser__L_c\n",
       "115     uquivo_c\n",
       "116        skm_c\n",
       "117     val__L_c\n",
       "118        zn2_e\n",
       "Length: 119, dtype: object"
      ]
     },
     "execution_count": 87,
     "metadata": {},
     "output_type": "execute_result"
    }
   ],
   "source": [
    "met_labels_compressed"
   ]
  },
  {
   "cell_type": "code",
   "execution_count": 85,
   "metadata": {},
   "outputs": [
    {
     "data": {
      "text/plain": [
       "0        2AACLPGT160\n",
       "1        2AACLPGT180\n",
       "2      2AACLPPEAT160\n",
       "3      2AACLPPEAT180\n",
       "4              ACODA\n",
       "           ...      \n",
       "174      EX_ccmuac_e\n",
       "175        EX_6pgl_e\n",
       "176      EX_acon_T_e\n",
       "177         EX_s7p_e\n",
       "178           PHETA1\n",
       "Length: 179, dtype: object"
      ]
     },
     "execution_count": 85,
     "metadata": {},
     "output_type": "execute_result"
    }
   ],
   "source": [
    "rxn_labels_compressed"
   ]
  },
  {
   "cell_type": "code",
   "execution_count": null,
   "metadata": {},
   "outputs": [],
   "source": []
  },
  {
   "cell_type": "code",
   "execution_count": 77,
   "metadata": {},
   "outputs": [],
   "source": [
    "def iter_matches():\n",
    "    for i, rxn_original in enumerate(model.reactions):\n",
    "        for rxn_index_compressed in np.where(np.sign(Rinv[i]))[0]:\n",
    "            yield (rxn_labels_compressed.loc[rxn_index_compressed], rxn_original.id)"
   ]
  },
  {
   "cell_type": "code",
   "execution_count": 78,
   "metadata": {},
   "outputs": [],
   "source": [
    "df = pd.DataFrame(iter_matches(), columns=['compressed', 'original'])"
   ]
  },
  {
   "cell_type": "code",
   "execution_count": 79,
   "metadata": {},
   "outputs": [
    {
     "data": {
      "text/plain": [
       "179"
      ]
     },
     "execution_count": 79,
     "metadata": {},
     "output_type": "execute_result"
    }
   ],
   "source": [
    "len(df.compressed.unique())"
   ]
  },
  {
   "cell_type": "code",
   "execution_count": 95,
   "metadata": {},
   "outputs": [],
   "source": [
    "import pickle\n",
    "\n",
    "with open('compression.p', 'wb') as f:\n",
    "    pickle.dump({'L': L, 'N': N, 'R': R, 'Rinv': Rinv, 'Rsign': Rsign, 'm': m, 'n': n, 'matches': df,\n",
    "                 'met_labels': met_labels_compressed, 'rxn_labels': rxn_labels_compressed}, f)"
   ]
  },
  {
   "cell_type": "code",
   "execution_count": null,
   "metadata": {},
   "outputs": [],
   "source": [
    "# N[:, rxn] += N[:, rxn_to_remove]\n",
    "# Rinv[:, rxn] += Rinv[:, rxn_to_remove]\n",
    "\n",
    "# N = np.delete(N, rxn_to_remove, 1)\n",
    "# Rinv = np.delete(Rinv, rxn_to_remove, 1)    \n",
    "# R = np.delete(R, rxn_to_remove, 0)\n",
    "\n",
    "# assert np.allclose(L @ N @ R @ Rsign @ v_star, 0)\n",
    "# assert np.allclose(Rinv @ R @ Rsign @ v_star, Rsign @ v_star)"
   ]
  }
 ],
 "metadata": {
  "kernelspec": {
   "display_name": "Python 3",
   "language": "python",
   "name": "python3"
  },
  "language_info": {
   "codemirror_mode": {
    "name": "ipython",
    "version": 3
   },
   "file_extension": ".py",
   "mimetype": "text/x-python",
   "name": "python",
   "nbconvert_exporter": "python",
   "pygments_lexer": "ipython3",
   "version": "3.7.6"
  }
 },
 "nbformat": 4,
 "nbformat_minor": 4
}
