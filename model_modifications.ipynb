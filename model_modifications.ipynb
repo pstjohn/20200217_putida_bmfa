{
 "cells": [
  {
   "cell_type": "code",
   "execution_count": 1,
   "metadata": {},
   "outputs": [
    {
     "name": "stderr",
     "output_type": "stream",
     "text": [
      "/opt/conda/lib/python3.7/site-packages/tqdm/std.py:658: FutureWarning: The Panel class is removed from pandas. Accessing it from the top-level namespace will also be removed in the next version\n",
      "  from pandas import Panel\n"
     ]
    }
   ],
   "source": [
    "from tqdm import tqdm\n",
    "tqdm.pandas()"
   ]
  },
  {
   "cell_type": "code",
   "execution_count": 2,
   "metadata": {},
   "outputs": [],
   "source": [
    "import cobra\n",
    "config = cobra.Configuration()\n",
    "config.processes = 1"
   ]
  },
  {
   "cell_type": "code",
   "execution_count": 3,
   "metadata": {},
   "outputs": [],
   "source": [
    "import cobra.io\n",
    "import gzip\n",
    "\n",
    "with gzip.open('iJN1463.json.gz') as file:\n",
    "    model = cobra.io.load_json_model(file)\n",
    "    \n",
    "INF = 999999.0"
   ]
  },
  {
   "cell_type": "code",
   "execution_count": 4,
   "metadata": {},
   "outputs": [],
   "source": [
    "# This gene is inactive in putida, doi:10.1111/1462-2920.13230\n",
    "model.reactions.PPCK.knock_out()"
   ]
  },
  {
   "cell_type": "code",
   "execution_count": 5,
   "metadata": {},
   "outputs": [],
   "source": [
    "# Add AroG-D146N gene\n",
    "model.genes.add(cobra.Gene(id='AroG_D146N', name='AroG-D146N'))\n",
    "model.reactions.DDPA.gene_reaction_rule = model.reactions.DDPA.gene_reaction_rule + ' or AroG_D146N'"
   ]
  },
  {
   "cell_type": "code",
   "execution_count": 6,
   "metadata": {},
   "outputs": [],
   "source": [
    "asbf = cobra.Reaction(id='ASBF', name='3-dehydroshikimate dehydratase')\n",
    "\n",
    "asbf.add_metabolites({\n",
    "    model.metabolites.get_by_id(\"3dhsk_c\"): -1,\n",
    "    model.metabolites.get_by_id(\"34dhbz_c\"): 1,\n",
    "    model.metabolites.get_by_id(\"h2o_c\"): 1})\n",
    "\n",
    "model.add_reaction(asbf)\n",
    "\n",
    "model.genes.add(cobra.Gene(id='AsbF', name='AsbF'))\n",
    "model.genes.add(cobra.Gene(id='B3ZVR2_BACCE', name='B3ZVR2_BACCE'))\n",
    "\n",
    "asbf.gene_reaction_rule = 'AsbF or B3ZVR2_BACCE'\n",
    "\n",
    "\n",
    "aroy = cobra.Reaction(id='AROY', name='protocatechuate decarboxylase')\n",
    "\n",
    "aroy.add_metabolites({\n",
    "    model.metabolites.get_by_id(\"34dhbz_c\"): -1,\n",
    "    model.metabolites.get_by_id(\"catechol_c\"): 1,\n",
    "    model.metabolites.get_by_id(\"h_c\"): -1,    \n",
    "    model.metabolites.get_by_id(\"co2_c\"): 1})\n",
    "\n",
    "model.add_reaction(aroy)"
   ]
  },
  {
   "cell_type": "code",
   "execution_count": 7,
   "metadata": {},
   "outputs": [],
   "source": [
    "model.reactions.SUCCt2_2pp.bounds = (-INF, INF)\n",
    "model.reactions.OCDCAtexi.bounds = (-INF, INF)\n",
    "model.reactions.OCDCEAtexi.bounds = (-INF, INF)\n",
    "model.reactions.HDCAtexi.bounds = (-INF, INF)"
   ]
  },
  {
   "cell_type": "code",
   "execution_count": 8,
   "metadata": {},
   "outputs": [],
   "source": [
    "for met_id in ['ccmuac_c', 'arab__L_c', 'udpgal_c',\n",
    "               '6pgl_c', 'acon_T_c', 's7p_c']:\n",
    "    \n",
    "    met = model.metabolites.get_by_id(met_id)\n",
    "    ext_met = met.copy()\n",
    "    ext_met.id = met_id[:-2] + '_e'\n",
    "    ext_met.compartment = 'e'\n",
    "    \n",
    "    model.add_metabolites([ext_met])\n",
    "    \n",
    "    try:\n",
    "        model.metabolites.get_by_id(f'{met_id[:-2]}_p')\n",
    "    except KeyError:\n",
    "        trxn = cobra.Reaction(met_id[:-2] + '_transport')\n",
    "        model.add_reaction(trxn)\n",
    "        trxn.reaction = f'{met_id} <=> {ext_met.id}'\n",
    "    \n",
    "    boundary = model.add_boundary(ext_met)\n",
    "    boundary.bounds = (0, INF)"
   ]
  },
  {
   "cell_type": "code",
   "execution_count": 9,
   "metadata": {},
   "outputs": [
    {
     "data": {
      "text/html": [
       "<div>\n",
       "<style scoped>\n",
       "    .dataframe tbody tr th:only-of-type {\n",
       "        vertical-align: middle;\n",
       "    }\n",
       "\n",
       "    .dataframe tbody tr th {\n",
       "        vertical-align: top;\n",
       "    }\n",
       "\n",
       "    .dataframe thead tr th {\n",
       "        text-align: left;\n",
       "    }\n",
       "</style>\n",
       "<table border=\"1\" class=\"dataframe\">\n",
       "  <thead>\n",
       "    <tr>\n",
       "      <th></th>\n",
       "      <th colspan=\"2\" halign=\"left\">IN_FLUXES</th>\n",
       "      <th colspan=\"2\" halign=\"left\">OUT_FLUXES</th>\n",
       "      <th colspan=\"2\" halign=\"left\">OBJECTIVES</th>\n",
       "    </tr>\n",
       "    <tr>\n",
       "      <th></th>\n",
       "      <th>ID</th>\n",
       "      <th>FLUX</th>\n",
       "      <th>ID</th>\n",
       "      <th>FLUX</th>\n",
       "      <th>ID</th>\n",
       "      <th>FLUX</th>\n",
       "    </tr>\n",
       "  </thead>\n",
       "  <tbody>\n",
       "    <tr>\n",
       "      <th>0</th>\n",
       "      <td>o2_e</td>\n",
       "      <td>11.422870</td>\n",
       "      <td>h2o_e</td>\n",
       "      <td>27.760685</td>\n",
       "      <td>BIOMASS_KT2440_WT3</td>\n",
       "      <td>0.586118</td>\n",
       "    </tr>\n",
       "    <tr>\n",
       "      <th>1</th>\n",
       "      <td>nh4_e</td>\n",
       "      <td>6.238732</td>\n",
       "      <td>co2_e</td>\n",
       "      <td>12.396611</td>\n",
       "      <td>NaN</td>\n",
       "      <td>NaN</td>\n",
       "    </tr>\n",
       "    <tr>\n",
       "      <th>2</th>\n",
       "      <td>glc__D_e</td>\n",
       "      <td>6.000000</td>\n",
       "      <td>h_e</td>\n",
       "      <td>5.738009</td>\n",
       "      <td>NaN</td>\n",
       "      <td>NaN</td>\n",
       "    </tr>\n",
       "    <tr>\n",
       "      <th>3</th>\n",
       "      <td>pi_e</td>\n",
       "      <td>0.539147</td>\n",
       "      <td>NaN</td>\n",
       "      <td>NaN</td>\n",
       "      <td>NaN</td>\n",
       "      <td>NaN</td>\n",
       "    </tr>\n",
       "  </tbody>\n",
       "</table>\n",
       "</div>"
      ],
      "text/plain": [
       "<cobra.core.summary.model_summary.ModelSummary at 0x7fdbbe95e190>"
      ]
     },
     "execution_count": 9,
     "metadata": {},
     "output_type": "execute_result"
    }
   ],
   "source": [
    "model.summary()"
   ]
  },
  {
   "cell_type": "code",
   "execution_count": 10,
   "metadata": {},
   "outputs": [
    {
     "name": "stdout",
     "output_type": "stream",
     "text": [
      "IN_FLUXES IN_FLUXES OUT_FLUXES OUT_FLUXES  OBJECTIVES  OBJECTIVES\n",
      "    ID       FLUX       ID        FLUX         ID         FLUX   \n",
      "     o2_e     10        h2o_e     21.8     EX_ccmuac_e    4.73   \n",
      " glc__D_e      6          h_e     9.45                     nan   \n",
      "             nan        co2_e     7.65                     nan   \n",
      "             nan     ccmuac_e     4.73                     nan   \n"
     ]
    },
    {
     "name": "stderr",
     "output_type": "stream",
     "text": [
      "cobra/core/summary/summary.py:206 \u001b[1;31mUserWarning\u001b[0m: Setting float_format to anything other than None will cause nan to be present in the output.\n"
     ]
    }
   ],
   "source": [
    "with model:\n",
    "    model.objective = model.reactions.EX_ccmuac_e\n",
    "    print(model.summary())"
   ]
  },
  {
   "cell_type": "code",
   "execution_count": 11,
   "metadata": {},
   "outputs": [],
   "source": [
    "import pandas as pd\n",
    "import numpy as np\n",
    "boundary_data = pd.read_csv('boundary_flux_from_external_measurements.csv')"
   ]
  },
  {
   "cell_type": "code",
   "execution_count": 12,
   "metadata": {},
   "outputs": [],
   "source": [
    "result = model.optimize()"
   ]
  },
  {
   "cell_type": "code",
   "execution_count": 13,
   "metadata": {},
   "outputs": [],
   "source": [
    "# Run FVA on an example row to get values for external metabolite flux\n",
    "ref_row = boundary_data.iloc[85]\n",
    "\n",
    "with model:\n",
    "\n",
    "    model.reactions.EX_glc__D_e.lower_bound = -ref_row.glucose_uptake\n",
    "    model.reactions.EX_glcn_e.lower_bound = -ref_row.gluconate_uptake\n",
    "    model.reactions.EX_fru_e.lower_bound = -ref_row.fructose_uptake\n",
    "\n",
    "    model.reactions.EX_ccmuac_e.lower_bound = ref_row.muconate_production\n",
    "    model.reactions.EX_2dhglcn_e.lower_bound = ref_row['2-ketogluconate_production']\n",
    "    \n",
    "    max_gr = model.slim_optimize()\n",
    "    \n",
    "    fva_results = cobra.flux_analysis.flux_variability_analysis(model, fraction_of_optimum=0.90)\n",
    "\n",
    "# Metabolites present in external media\n",
    "other_mets = ['34dhbz_e', '6pgl_e', \n",
    "              'acon_T_e', 's7p_e', 'glyc_e', 'glyclt_e', \n",
    "              'lac__D_e', 'pyr_e', 'succ_e', 'ocdca_e', 'hdca_e']\n",
    "\n",
    "external_bounds = 0.1 * fva_results.loc['EX_' + pd.Series(other_mets)]['maximum']"
   ]
  },
  {
   "cell_type": "code",
   "execution_count": 14,
   "metadata": {},
   "outputs": [],
   "source": [
    "from cobra.flux_analysis import pfba\n",
    "\n",
    "def calc_gr(row, model=model):\n",
    "    \n",
    "    with model:\n",
    "        model.reactions.EX_glc__D_e.lower_bound = -row.glucose_uptake\n",
    "        model.reactions.EX_glcn_e.lower_bound = -row.gluconate_uptake\n",
    "        model.reactions.EX_fru_e.lower_bound = -row.fructose_uptake\n",
    "\n",
    "        model.reactions.EX_ccmuac_e.lower_bound = row.muconate_production\n",
    "        model.reactions.EX_2dhglcn_e.lower_bound = row['2-ketogluconate_production']\n",
    "        \n",
    "        for rxnid, flux in external_bounds.iteritems():\n",
    "            model.reactions.get_by_id(rxnid).lower_bound = flux\n",
    "\n",
    "        try:\n",
    "            result = pfba(model)\n",
    "        except cobra.exceptions.Infeasible:            \n",
    "            model.reactions.EX_2dhglcn_e.lower_bound = 0\n",
    "            model.reactions.BIOMASS_KT2440_WT3.lower_bound = row.growth_rate\n",
    "            model.objective = model.reactions.EX_2dhglcn_e\n",
    "            try:\n",
    "                result = pfba(model)\n",
    "            except cobra.exceptions.Infeasible:  \n",
    "                return None\n",
    "                \n",
    "        return result.fluxes"
   ]
  },
  {
   "cell_type": "code",
   "execution_count": 15,
   "metadata": {},
   "outputs": [
    {
     "name": "stderr",
     "output_type": "stream",
     "text": [
      "100%|██████████| 88/88 [00:57<00:00,  1.54it/s]\n"
     ]
    }
   ],
   "source": [
    "fluxes = boundary_data.progress_apply(calc_gr, axis=1)"
   ]
  },
  {
   "cell_type": "code",
   "execution_count": 16,
   "metadata": {},
   "outputs": [],
   "source": [
    "import matplotlib.pyplot as plt\n",
    "%matplotlib inline"
   ]
  },
  {
   "cell_type": "code",
   "execution_count": 17,
   "metadata": {},
   "outputs": [
    {
     "data": {
      "text/plain": [
       "[<matplotlib.lines.Line2D at 0x7fdbac0bc550>]"
      ]
     },
     "execution_count": 17,
     "metadata": {},
     "output_type": "execute_result"
    },
    {
     "data": {
      "image/png": "[encoded data removed]",
      "text/plain": [
       "<Figure size 432x288 with 1 Axes>"
      ]
     },
     "metadata": {
      "needs_background": "light"
     },
     "output_type": "display_data"
    }
   ],
   "source": [
    "# At least they're correlated...\n",
    "plt.plot(boundary_data.growth_rate, fluxes['BIOMASS_KT2440_WT3'], '.')"
   ]
  },
  {
   "cell_type": "code",
   "execution_count": 35,
   "metadata": {},
   "outputs": [
    {
     "name": "stderr",
     "output_type": "stream",
     "text": [
      "100%|██████████| 2216/2216 [00:05<00:00, 378.87it/s]\n",
      "100%|██████████| 1493/1493 [00:00<00:00, 2368.45it/s]\n"
     ]
    }
   ],
   "source": [
    "reduced_model = model.copy()\n",
    "\n",
    "for rxn in tqdm(fluxes.columns[np.isclose(fluxes.fillna(0.), 0).all(0)]):\n",
    "    reduced_model.reactions.get_by_id(rxn).remove_from_model()\n",
    "\n",
    "for met in tqdm(reduced_model.metabolites.query(lambda x: len(x.reactions) < 2)):\n",
    "    met.remove_from_model()"
   ]
  },
  {
   "cell_type": "code",
   "execution_count": 36,
   "metadata": {},
   "outputs": [
    {
     "name": "stderr",
     "output_type": "stream",
     "text": [
      "100%|██████████| 88/88 [00:08<00:00, 10.10it/s]\n"
     ]
    },
    {
     "data": {
      "text/plain": [
       "[<matplotlib.lines.Line2D at 0x7fdba60c5810>]"
      ]
     },
     "execution_count": 36,
     "metadata": {},
     "output_type": "execute_result"
    },
    {
     "data": {
      "image/png": "[encoded data removed]",
      "text/plain": [
       "<Figure size 432x288 with 1 Axes>"
      ]
     },
     "metadata": {
      "needs_background": "light"
     },
     "output_type": "display_data"
    }
   ],
   "source": [
    "fluxes_reduced = boundary_data.progress_apply(calc_gr, axis=1, model=reduced_model).fillna(0.)\n",
    "\n",
    "plt.plot(fluxes['BIOMASS_KT2440_WT3'], fluxes_reduced['BIOMASS_KT2440_WT3'], '.')"
   ]
  },
  {
   "cell_type": "code",
   "execution_count": 37,
   "metadata": {},
   "outputs": [
    {
     "name": "stderr",
     "output_type": "stream",
     "text": [
      "100%|██████████| 8/8 [00:00<00:00, 1015.02it/s]\n",
      "100%|██████████| 1/1 [00:00<00:00, 1390.22it/s]\n"
     ]
    }
   ],
   "source": [
    "for rxn in tqdm(fluxes_reduced.columns[np.isclose(fluxes_reduced.fillna(0.), 0).all(0)]):\n",
    "    reduced_model.reactions.get_by_id(rxn).remove_from_model()\n",
    "\n",
    "for met in tqdm(reduced_model.metabolites.query(lambda x: len(x.reactions) < 2)):\n",
    "    met.remove_from_model()"
   ]
  },
  {
   "cell_type": "code",
   "execution_count": 38,
   "metadata": {},
   "outputs": [],
   "source": [
    "ref_row = boundary_data.iloc[85]\n",
    "\n",
    "with reduced_model:\n",
    "\n",
    "    reduced_model.reactions.EX_glc__D_e.lower_bound = -ref_row.glucose_uptake\n",
    "    reduced_model.reactions.EX_glcn_e.lower_bound = -ref_row.gluconate_uptake\n",
    "    reduced_model.reactions.EX_fru_e.lower_bound = -ref_row.fructose_uptake\n",
    "\n",
    "    reduced_model.reactions.EX_ccmuac_e.lower_bound = ref_row.muconate_production\n",
    "    reduced_model.reactions.EX_2dhglcn_e.lower_bound = ref_row['2-ketogluconate_production']\n",
    "    \n",
    "    for rxnid, flux in external_bounds.iteritems():\n",
    "        reduced_model.reactions.get_by_id(rxnid).lower_bound = flux\n",
    "        \n",
    "    fva_results = cobra.flux_analysis.flux_variability_analysis(reduced_model, fraction_of_optimum=0.90)\n",
    "    \n",
    "    \n",
    "#     max_gr = model.slim_optimize()\n",
    "    \n",
    "#     fva_results = cobra.flux_analysis.flux_variability_analysis(model, fraction_of_optimum=0.90)"
   ]
  },
  {
   "cell_type": "code",
   "execution_count": 52,
   "metadata": {},
   "outputs": [
    {
     "name": "stderr",
     "output_type": "stream",
     "text": [
      "cobra/core/summary/summary.py:206 \u001b[1;31mUserWarning\u001b[0m: Setting float_format to anything other than None will cause nan to be present in the output.\n"
     ]
    },
    {
     "name": "stdout",
     "output_type": "stream",
     "text": [
      "IN_FLUXES IN_FLUXES OUT_FLUXES OUT_FLUXES      OBJECTIVES     OBJECTIVES\n",
      "    ID       FLUX       ID        FLUX             ID            FLUX   \n",
      "     o2_e     2.15       h2o_e    5.72     BIOMASS_KT2440_WT3   0.0618  \n",
      "   glcn_e     1.77   2dhglcn_e    1.52                             nan  \n",
      "    nh4_e    0.658       co2_e    1.42                             nan  \n",
      "    fru_e    0.604         h_e    1.19                             nan  \n",
      " glc__D_e    0.234    ccmuac_e   0.361                             nan  \n",
      "     pi_e   0.0694                 nan                             nan  \n",
      "2AACLPPEAT160: 0.0, 0.016938365010618652\n",
      "2AACLPPEAT180: 0.0, 0.014977519815005268\n",
      "2AACLPGT160: 0.0, 0.01524452850956315\n",
      "2AACLPGT180: 0.0, 0.013346468828115035\n",
      "AROH: 0.0, 0.011577131045026954\n",
      "ASPO3: 0.0, 0.00013792831927964314\n",
      "ASPO5: 0.0, 0.00012413548735150498\n",
      "CU2tonex: 0.0, 5.35900352539865\n",
      "CYSTGL: 0.0, 0.0036000578730226817\n",
      "CYTBDpp: 0.0, 2.6526527442042074\n",
      "DHMPTRx: 0.0, 1.3244866880196502e-05\n",
      "DHMPTR: 0.0, 1.192038019217683e-05\n",
      "DHORDfum: 0.0, 0.01969725523563999\n",
      "DHORD2: 0.0, 0.01772752971207597\n",
      "FBP: 0.0, 0.5161772709827713\n",
      "FE3DCITR3: 0.0, 0.000246053869751633\n",
      "FE3DCITR: 0.0, 0.00022144848277646994\n",
      "FMNRx: 0.0, 0.00023705626310681555\n",
      "FMNRx2_copy2: 0.0, 0.00021335063679613376\n",
      "FRDO7r: -999999.0, 999998.9999290055\n",
      "G3PGabcpp: 0.0, 0.007210980849494548\n",
      "GART: 0.0, 0.0002212642824853617\n",
      "GLCabcpp: 0.0, 0.23362467621124647\n",
      "GLYCK: 0.0, 0.7371751501015549\n",
      "GLYCL: 0.0, 0.06283886586779967\n",
      "GLYCLTDx: 0.0, 0.22874139484520925\n",
      "GLYK: 0.0, 1.7018275187328709\n",
      "HSK: 0.0, 0.1358488026723\n",
      "Kabcpp: 0.0, 0.00903798746822473\n",
      "LPLIPAL1G180pp: 0.0, 0.0068127308508034124\n",
      "ICDHyr: -1.920847236255567, 0.22664033751817272\n",
      "MG2uabcpp: 0.0, 0.00040088925399790537\n",
      "NDPK5: -2.0138664122036167, 0.000991609548301875\n",
      "NI2uabcpp: 0.0, 0.0001603241584513162\n",
      "OSKTabcpp: 0.0, 0.0004949021218226895\n",
      "PC: 0.0, 0.3399791369381949\n",
      "PIuabcpp: 0.0, 1.644516990032239\n",
      "PPA2: 0.0, 1.2210538678476435\n",
      "PPC: 0.0, 0.29557537759725594\n",
      "PPS: 0.0, 1.208104391660685\n",
      "RBK: 0.0, 3.171195400661014e-05\n",
      "THRt2pp: 0.0, 0.0004273050727083761\n",
      "UKQUIVORx: 0.0, 0.00047959533477931384\n",
      "UKQUIVORy: 0.0, 0.00043163580141224243\n",
      "ZN2abcpp: 0.0, 0.5980104484675745\n",
      "PIabc: 0.0, 1.5787475765465855\n",
      "PRASCSi_copy2: 0.0, 0.02241619721880104\n",
      "PRASCSi_copy1: 0.0, 0.020174577496790778\n",
      "EAR121x: 0.0, 0.032114880923124686\n",
      "IDPh_1: 0.0, 1.5629601158856945\n",
      "SULabc: 0.0, 0.009946578518706008\n",
      "NDP8: 0.0, 1.1604232824482366\n",
      "AKGDH: 0.0, 1.1357299930918014\n",
      "DALAabcpp: 0.0, 0.0011780661011207567\n"
     ]
    }
   ],
   "source": [
    "tol = 1E-7\n",
    "\n",
    "with reduced_model:\n",
    "        \n",
    "    reduced_model.reactions.EX_glc__D_e.lower_bound = -ref_row.glucose_uptake\n",
    "    reduced_model.reactions.EX_glcn_e.lower_bound = -ref_row.gluconate_uptake\n",
    "    reduced_model.reactions.EX_fru_e.lower_bound = -ref_row.fructose_uptake\n",
    "\n",
    "    reduced_model.reactions.EX_ccmuac_e.lower_bound = ref_row.muconate_production\n",
    "    reduced_model.reactions.EX_2dhglcn_e.lower_bound = ref_row['2-ketogluconate_production']\n",
    "    \n",
    "    for rxnid, flux in external_bounds.iteritems():\n",
    "        reduced_model.reactions.get_by_id(rxnid).lower_bound = flux\n",
    "        \n",
    "    print(reduced_model.summary())\n",
    "    \n",
    "    \n",
    "    while True:\n",
    "        result = reduced_model.optimize()\n",
    "        assert result.status == 'optimal'\n",
    "        if (result.fluxes == 0).sum() == 0: \n",
    "            break\n",
    "        rxn = result.fluxes[result.fluxes.abs() < tol].index[0]\n",
    "        fva_result = cobra.flux_analysis.flux_variability_analysis(reduced_model, reaction_list=[rxn], fraction_of_optimum=.9).iloc[0]\n",
    "        print(f\"{rxn}: {fva_result['minimum']}, {fva_result['maximum']}\")\n",
    "        \n",
    "        if fva_result.abs().max() > (tol * 10):\n",
    "            if fva_result['maximum'] > abs(fva_result['minimum']):\n",
    "                reduced_model.reactions.get_by_id(rxn).lower_bound = fva_result['maximum'] * 0.1\n",
    "            else:\n",
    "                reduced_model.reactions.get_by_id(rxn).upper_bound = fva_result['minimum'] * 0.1   \n",
    "            \n",
    "        else:\n",
    "            reduced_model.reactions.get_by_id(rxn).remove_from_model()\n",
    "            print(f'removing {rxn}')"
   ]
  },
  {
   "cell_type": "code",
   "execution_count": 53,
   "metadata": {},
   "outputs": [
    {
     "name": "stderr",
     "output_type": "stream",
     "text": [
      "100%|██████████| 88/88 [00:08<00:00, 10.48it/s]\n"
     ]
    },
    {
     "data": {
      "text/plain": [
       "[<matplotlib.lines.Line2D at 0x7fdba538e6d0>]"
      ]
     },
     "execution_count": 53,
     "metadata": {},
     "output_type": "execute_result"
    },
    {
     "data": {
      "image/png": "[encoded data removed]",
      "text/plain": [
       "<Figure size 432x288 with 1 Axes>"
      ]
     },
     "metadata": {
      "needs_background": "light"
     },
     "output_type": "display_data"
    }
   ],
   "source": [
    "fluxes_reduced = boundary_data.progress_apply(calc_gr, axis=1, model=reduced_model).fillna(0.)\n",
    "plt.plot(fluxes['BIOMASS_KT2440_WT3'], fluxes_reduced['BIOMASS_KT2440_WT3'], '.')"
   ]
  },
  {
   "cell_type": "code",
   "execution_count": 54,
   "metadata": {},
   "outputs": [
    {
     "data": {
      "text/plain": [
       "0"
      ]
     },
     "execution_count": 54,
     "metadata": {},
     "output_type": "execute_result"
    }
   ],
   "source": [
    "fluxes_reduced.isna().any(1).sum()"
   ]
  },
  {
   "cell_type": "code",
   "execution_count": 55,
   "metadata": {},
   "outputs": [
    {
     "data": {
      "text/plain": [
       "9.535367680179189e-07"
      ]
     },
     "execution_count": 55,
     "metadata": {},
     "output_type": "execute_result"
    }
   ],
   "source": [
    "result.fluxes.abs().min()"
   ]
  },
  {
   "cell_type": "code",
   "execution_count": 57,
   "metadata": {},
   "outputs": [],
   "source": [
    "result.fluxes.to_csv('reference_fluxes_GB032gfg.csv')"
   ]
  },
  {
   "cell_type": "code",
   "execution_count": 59,
   "metadata": {},
   "outputs": [],
   "source": [
    "cobra.io.save_json_model(reduced_model, 'reduced_iJN1463.json')"
   ]
  },
  {
   "cell_type": "code",
   "execution_count": 63,
   "metadata": {},
   "outputs": [],
   "source": [
    "N = cobra.util.create_stoichiometric_matrix(reduced_model)\n",
    "v_star = result.fluxes.values.flatten()\n",
    "\n",
    "N_corr = N @ np.diag((v_star > 0) * 2 - 1)"
   ]
  },
  {
   "cell_type": "code",
   "execution_count": 65,
   "metadata": {},
   "outputs": [
    {
     "data": {
      "text/plain": [
       "(665, 716)"
      ]
     },
     "execution_count": 65,
     "metadata": {},
     "output_type": "execute_result"
    }
   ],
   "source": [
    "N_corr.shape"
   ]
  },
  {
   "cell_type": "code",
   "execution_count": 66,
   "metadata": {},
   "outputs": [
    {
     "data": {
      "text/plain": [
       "716"
      ]
     },
     "execution_count": 66,
     "metadata": {},
     "output_type": "execute_result"
    }
   ],
   "source": [
    "len(reduced_model.reactions)"
   ]
  },
  {
   "cell_type": "code",
   "execution_count": 71,
   "metadata": {},
   "outputs": [],
   "source": [
    "N_bool = (N != 0)"
   ]
  },
  {
   "cell_type": "code",
   "execution_count": null,
   "metadata": {},
   "outputs": [],
   "source": []
  },
  {
   "cell_type": "code",
   "execution_count": 72,
   "metadata": {},
   "outputs": [
    {
     "data": {
      "text/plain": [
       "array([  4,   2,   2,   3,   2,   2,   3,   2,   4,   2,   2,   2,   2,\n",
       "         2,   2,   2,   2,   2,   2,   2,   2,   2,   2,   2,   2,   2,\n",
       "         3,   2,   2,   2,   2,   2,   2,   2,   2,   2,   2,   2,   2,\n",
       "         2,   2,   2,   2,   2,   2,   3,   2,   2,   2,   2,   2,   3,\n",
       "         2,   2,   2,   3,   2,   2,   2,   2,   4,   2,   2,   2,   3,\n",
       "         2,   2,   2,   2,   2,   2,   2,   2,   2,   2,   2,   3,   2,\n",
       "         3,   2,   2,   2,   2,   2,   2,   3,   2,   2,   2,   2,   2,\n",
       "         2,   2,   2,   2,   2,   4,   2,   2,   2,   2,   2,   2,   2,\n",
       "         2,   2,   2,   2,   2,   2,   2,   3,   2,   3,   2,   2,   2,\n",
       "         2,   2,   2,   2,   3,   2,   6,   3,   2,  14,   2,   2,   2,\n",
       "         2,   2,   3,   4,   3,   2,   2,  34,   2,   2,   2,   2,   2,\n",
       "         2,   2,   2,   2,   2,   2,   2, 105,   2,   3,   4,   8,   2,\n",
       "         8,   3,  13,   2,   3,   4,   4,   3,  18,   2,   2, 124,   2,\n",
       "         3,   2,   5,  17,   2,  19,   2,   5,   2,   2,   2,   3,   2,\n",
       "         2,   2,   2,   2,   2,   2,   2,   2,   2,   2,   2,   2,   2,\n",
       "         2,   2,  15,   2,   2,  59,   2,   2,   2,   2,   2,   2,   2,\n",
       "         2,   2,  22,   3,   2,   2,   2,  13,   2,   2,   2,   2,   2,\n",
       "         4,   2,   7,   3,   2,   2,   3,   3,   3,   3,   3,   3,   2,\n",
       "         2,   2,   2,  11,   2,   5,   3,   2,   3,   2,   2,   2,   2,\n",
       "         2,   3,   3,   2,   3,   2,   2,   2,   5,   2,   4,   2,   8,\n",
       "         3,   3,   2,   2,   4,   4,   5,   2,   2,   7,   2,   3,   2,\n",
       "         2,  10,   2,   3,   3,   2,   4,   4,   2,   3,   2,   2,   2,\n",
       "         3,   5,   3,   4,   3,   2,   2,   2,   2,   2,   2,   3,   2,\n",
       "         2,   2,   4,   3,   5,   2,   2,   5,   2,   2,   8,   2,   2,\n",
       "         2,   2,   2,   2,   3,   2,   2,   2,   2,  30,   2,   3,   2,\n",
       "         3,   2,   2,   2,   4,   2,  11,   5,   9,   2, 358,   2,   2,\n",
       "        30,   4,   3,  13,   4,   3,   4,   2,   7,   4,   2,   2,   5,\n",
       "         5,   5,   2,   4,   2,   4,   3,   2,   3,   2,   2,   2,   2,\n",
       "         2,   2,   2,   2,   2,   2,   2,   2,   3,   2,   2,   2,  10,\n",
       "         2,   2,   2,   2,   2,   2,   3,   3, 177,   2,  20,   3,   2,\n",
       "         4,   2,   2,   5,   2,   2,   2,   2,   2,   4,   2,   2,   2,\n",
       "         2,   2,   5,   2,  14,   2,   2,   2,   2,   3,   3,   2,   3,\n",
       "         3,   7,   2,   2,   3,   2,   2,   2,   2,   4,   2,   2,   2,\n",
       "         3,   2,   2,   2,   3,   2,   2,   3,   3,   2,   2,   2,   2,\n",
       "         2,   2,  18,   2,   2,   2,   3,   2,   2,   2,   5,   3,   2,\n",
       "         5,   3,   3,   2,   4,   2,   4,   2,   2,   4,   3,   2,  50,\n",
       "         2,   5,  48,  63,   2,  62,   5,  19,   3,   2,   2,   2,   2,\n",
       "         3,   6,   2,   2,   2,   2,   2,   2,   2,   2,   2,   2,   2,\n",
       "        98,   3,   4,   2,   4,   2,   2,   3,   5,   4,   2,   2,   3,\n",
       "         2,   3,   2,  10,   4,   2,  56,   3,   2,   2,   2,   5,   4,\n",
       "         4,   4,   2,   2,   2,   4,   2,   4,   3,   2,   2,   2,   2,\n",
       "         2,   2,   2,   2,   2,   2,   2,   2,   2,   2,   2,   2,   2,\n",
       "         2,   2,   2,   2,   3,   9,   2,   2,   2,   2,   3,   2,   2,\n",
       "         2,   2,   2,   2,   2,   2,   5,   3,   2,   3,   2,   9,   2,\n",
       "         2,   5,   2,   2,   2,   3,   2,   2,   2,   2,   2,  17,   2,\n",
       "         2,   9,  11,   2,   2,   2,   2,   2,   2,   2,   4,   3,   2,\n",
       "         2,   2,   2,   8,   2,   2,   3,   3,   2,   6,   3,   3,   2,\n",
       "         5,   2,   4,   2,   3,   2,   5,   2,   2,   2,   2,   2,   5,\n",
       "         2,   2,   2,   4,   2,   9,   2,   2,   5,   2,   2,   2,   2,\n",
       "         3,   6,   6,   6,   3,   2,   2,   3,   3,  13,   2,   3,   3,\n",
       "         3,   2,   5,   2,   2,   2,   2,   3,   3,   2,   3,   2,   2,\n",
       "         2,   2])"
      ]
     },
     "execution_count": 72,
     "metadata": {},
     "output_type": "execute_result"
    }
   ],
   "source": [
    "N_bool.sum(1)"
   ]
  },
  {
   "cell_type": "code",
   "execution_count": null,
   "metadata": {},
   "outputs": [],
   "source": []
  }
 ],
 "metadata": {
  "kernelspec": {
   "display_name": "Python 3",
   "language": "python",
   "name": "python3"
  },
  "language_info": {
   "codemirror_mode": {
    "name": "ipython",
    "version": 3
   },
   "file_extension": ".py",
   "mimetype": "text/x-python",
   "name": "python",
   "nbconvert_exporter": "python",
   "pygments_lexer": "ipython3",
   "version": "3.7.6"
  }
 },
 "nbformat": 4,
 "nbformat_minor": 4
}
